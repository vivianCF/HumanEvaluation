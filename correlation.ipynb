{
 "cells": [
  {
   "cell_type": "code",
   "execution_count": 4,
   "metadata": {
    "colab": {
     "base_uri": "https://localhost:8080/"
    },
    "id": "sEelScygI-9A",
    "outputId": "68213e05-6661-4da5-e05a-dd053d04b825"
   },
   "outputs": [
    {
     "name": "stdout",
     "output_type": "stream",
     "text": [
      "Correlation Matrix:\n",
      "             SamSum_Info  AMI_Info     Info*\n",
      "SamSum_Info          1.0       NaN       NaN\n",
      "AMI_Info             NaN  1.000000  0.012352\n",
      "Info*                NaN  0.012352  1.000000\n"
     ]
    }
   ],
   "source": [
    "import pandas as pd\n",
    "\n",
    "# Sample data (replace with your actual data)\n",
    "data = {\n",
    "    'Model': ['Golden', 'BART', 'MV-BART', 'BART(DKE)', 'BART(DRD)', 'BART(DTS)', 'BART(DALL)',\n",
    "              'Golden', 'PGN', 'HMNet', 'PGN(DKE)', 'PGN(DRD)', 'PGN(DTS)', 'PGN(DALL)'],\n",
    "    'SamSum_Info': [4.37, 3.66, 3.85, 3.88, 3.74, 3.95, 4.05,\n",
    "                    None, None, None, None, None, None, None],  # Original study, SamSum info. Replace None with your values\n",
    "    'AMI_Info': [None, None, None, None, None, None, None,\n",
    "                 4.70, 2.92, 3.52, 3.20, 3.15, 3.05, 3.33],  # Original study, AMI info. Replace None with your values\n",
    "    'Info*': [None, None, None, None, None, None, None,\n",
    "               2.4, 2.18, 2.2, 2.18, 3.0, 2.27, 2.52]  # Reproduction experiment. Replace None with your values\n",
    "}\n",
    "\n",
    "# Create a DataFrame\n",
    "df = pd.DataFrame(data)\n",
    "\n",
    "# Select relevant columns\n",
    "df_correlation = df[['SamSum_Info', 'AMI_Info', 'Info*']]\n",
    "\n",
    "# Calculate correlation matrix\n",
    "correlation_matrix = df_correlation.corr()\n",
    "\n",
    "# Display correlation matrix\n",
    "print(\"Correlation Matrix:\")\n",
    "print(correlation_matrix)\n"
   ]
  },
  {
   "cell_type": "code",
   "execution_count": 5,
   "metadata": {
    "colab": {
     "base_uri": "https://localhost:8080/"
    },
    "id": "MEqiyF18ib9F",
    "outputId": "1d37c641-5ea4-4363-8fa7-bfae2ea3f4ab"
   },
   "outputs": [
    {
     "name": "stdout",
     "output_type": "stream",
     "text": [
      "Pearson Correlation Coefficient between AMI_Info and Info*: 0.012351910068674858\n"
     ]
    }
   ],
   "source": [
    "import pandas as pd\n",
    "\n",
    "# Sample data (replace with your actual data)\n",
    "data = {\n",
    "    'Model': ['Golden', 'BART', 'MV-BART', 'BART(DKE)', 'BART(DRD)', 'BART(DTS)', 'BART(DALL)',\n",
    "              'Golden', 'PGN', 'HMNet', 'PGN(DKE)', 'PGN(DRD)', 'PGN(DTS)', 'PGN(DALL)'],\n",
    "    'SamSum_Info': [4.37, 3.66, 3.85, 3.88, 3.74, 3.95, 4.05,\n",
    "                    None, None, None, None, None, None, None],  # Replace None with your values\n",
    "    'AMI_Info': [None, None, None, None, None, None, None,\n",
    "                 4.70, 2.92, 3.52, 3.20, 3.15, 3.05, 3.33],  # Replace None with your values\n",
    "    'Info*': [None, None, None, None, None, None, None,\n",
    "               2.4, 2.18, 2.2, 2.18, 3.0, 2.27, 2.52]  # Replace None with your values\n",
    "}\n",
    "\n",
    "# Create a DataFrame\n",
    "df = pd.DataFrame(data)\n",
    "\n",
    "# Select relevant columns for correlation\n",
    "df_correlation = df[['AMI_Info', 'Info*']]\n",
    "\n",
    "# Drop rows with NaN values\n",
    "df_correlation = df_correlation.dropna()\n",
    "\n",
    "# Calculate correlation coefficient\n",
    "correlation_coefficient = df_correlation['AMI_Info'].corr(df_correlation['Info*'])\n",
    "\n",
    "print(\"Pearson Correlation Coefficient between AMI_Info and Info*:\", correlation_coefficient)\n"
   ]
  },
  {
   "cell_type": "code",
   "execution_count": 6,
   "metadata": {
    "colab": {
     "base_uri": "https://localhost:8080/",
     "height": 235
    },
    "id": "8ikgt5Xgi01_",
    "outputId": "139a36af-9d42-4f70-bcc9-f56e3f904438"
   },
   "outputs": [
    {
     "data": {
      "text/html": [
       "<div>\n",
       "<style scoped>\n",
       "    .dataframe tbody tr th:only-of-type {\n",
       "        vertical-align: middle;\n",
       "    }\n",
       "\n",
       "    .dataframe tbody tr th {\n",
       "        vertical-align: top;\n",
       "    }\n",
       "\n",
       "    .dataframe thead th {\n",
       "        text-align: right;\n",
       "    }\n",
       "</style>\n",
       "<table border=\"1\" class=\"dataframe\">\n",
       "  <thead>\n",
       "    <tr style=\"text-align: right;\">\n",
       "      <th></th>\n",
       "      <th>AMI_Info</th>\n",
       "      <th>Info*</th>\n",
       "    </tr>\n",
       "  </thead>\n",
       "  <tbody>\n",
       "    <tr>\n",
       "      <th>7</th>\n",
       "      <td>4.70</td>\n",
       "      <td>2.40</td>\n",
       "    </tr>\n",
       "    <tr>\n",
       "      <th>8</th>\n",
       "      <td>2.92</td>\n",
       "      <td>2.18</td>\n",
       "    </tr>\n",
       "    <tr>\n",
       "      <th>9</th>\n",
       "      <td>3.52</td>\n",
       "      <td>2.20</td>\n",
       "    </tr>\n",
       "    <tr>\n",
       "      <th>10</th>\n",
       "      <td>3.20</td>\n",
       "      <td>2.18</td>\n",
       "    </tr>\n",
       "    <tr>\n",
       "      <th>11</th>\n",
       "      <td>3.15</td>\n",
       "      <td>3.00</td>\n",
       "    </tr>\n",
       "    <tr>\n",
       "      <th>12</th>\n",
       "      <td>3.05</td>\n",
       "      <td>2.27</td>\n",
       "    </tr>\n",
       "    <tr>\n",
       "      <th>13</th>\n",
       "      <td>3.33</td>\n",
       "      <td>2.52</td>\n",
       "    </tr>\n",
       "  </tbody>\n",
       "</table>\n",
       "</div>"
      ],
      "text/plain": [
       "    AMI_Info  Info*\n",
       "7       4.70   2.40\n",
       "8       2.92   2.18\n",
       "9       3.52   2.20\n",
       "10      3.20   2.18\n",
       "11      3.15   3.00\n",
       "12      3.05   2.27\n",
       "13      3.33   2.52"
      ]
     },
     "execution_count": 6,
     "metadata": {},
     "output_type": "execute_result"
    }
   ],
   "source": [
    "df_correlation"
   ]
  },
  {
   "cell_type": "markdown",
   "metadata": {
    "id": "OnfjLAoG9s0o"
   },
   "source": [
    "The coefficient value of -0.058 indicates a weak negative correlation between the variables \"AMI_Info\" and \"Info*\".\n",
    "A negative correlation means that as the value of one variable increases, the value of the other variable tends to decrease.\n",
    "The magnitude of the correlation coefficient (in this case, 0.058) suggests that the relationship between the variables is very weak.\n",
    "In summary, the Spearman correlation coefficient provides insight into how closely related two variables are, and in this case, there is a weak negative relationship between \"AMI_Info\" and \"Info*\""
   ]
  },
  {
   "cell_type": "code",
   "execution_count": 7,
   "metadata": {
    "colab": {
     "base_uri": "https://localhost:8080/"
    },
    "id": "dxG3fR6t8eCG",
    "outputId": "e9bc069c-0ec7-4760-daa9-fc740e7f3c68"
   },
   "outputs": [
    {
     "name": "stdout",
     "output_type": "stream",
     "text": [
      "Spearman Correlation Coefficient between AMI_Info and Info*: 0.2702812388086677\n"
     ]
    }
   ],
   "source": [
    "correlation_coefficient_spearman = df_correlation['AMI_Info'].corr(df_correlation['Info*'],method='spearman')\n",
    "print(\"Spearman Correlation Coefficient between AMI_Info and Info*:\", correlation_coefficient_spearman)"
   ]
  },
  {
   "cell_type": "code",
   "execution_count": null,
   "metadata": {
    "id": "uTCvjoozvLt5"
   },
   "outputs": [],
   "source": []
  },
  {
   "cell_type": "code",
   "execution_count": 8,
   "metadata": {
    "colab": {
     "base_uri": "https://localhost:8080/"
    },
    "id": "pl645AR0zDTH",
    "outputId": "a2c3661f-7687-40f2-bc50-0e6143f55acf"
   },
   "outputs": [
    {
     "name": "stdout",
     "output_type": "stream",
     "text": [
      "The unbiased coefficient of variation is 64.59470900307073\n",
      "for a mean of 3.55 , \n",
      "unbiased sample standard deviation of 2.038321928541343 , with 95\\% CI (-9.620475344897981, 13.697119201980668) ,\n",
      "and a sample size of 2 .\n",
      "100.0 % of measured values fall within two standard deviations.\n",
      "100.0 % of measured values fall within one standard deviation.\n",
      "The unbiased coefficient of variation is 28.93270256625179\n",
      "for a mean of 2.55 , \n",
      "unbiased sample standard deviation of 0.6558079248350406 , with 95\\% CI (-3.095283371836741, 4.406899221506822) ,\n",
      "and a sample size of 2 .\n",
      "100.0 % of measured values fall within two standard deviations.\n",
      "100.0 % of measured values fall within one standard deviation.\n",
      "The unbiased coefficient of variation is 46.01562882158549\n",
      "for a mean of 2.8600000000000003 , \n",
      "unbiased sample standard deviation of 1.1698195415976402 , with 95\\% CI (-5.5213162848979715, 7.860955368093252) ,\n",
      "and a sample size of 2 .\n",
      "100.0 % of measured values fall within two standard deviations.\n",
      "100.0 % of measured values fall within one standard deviation.\n",
      "The unbiased coefficient of variation is 37.80466159691597\n",
      "for a mean of 2.6900000000000004 , \n",
      "unbiased sample standard deviation of 0.903951463961813 , with 95\\% CI (-4.266471674693887, 6.074374602617513) ,\n",
      "and a sample size of 2 .\n",
      "100.0 % of measured values fall within two standard deviations.\n",
      "100.0 % of measured values fall within one standard deviation.\n",
      "The unbiased coefficient of variation is 4.863440444557813\n",
      "for a mean of 3.075 , \n",
      "unbiased sample standard deviation of 0.13293403881791357 , with 95\\% CI (-0.627422305102042, 0.8932903827378691) ,\n",
      "and a sample size of 2 .\n",
      "100.0 % of measured values fall within two standard deviations.\n",
      "100.0 % of measured values fall within one standard deviation.\n",
      "The unbiased coefficient of variation is 29.23549349942837\n",
      "for a mean of 2.66 , \n",
      "unbiased sample standard deviation of 0.6912570018531509 , with 95\\% CI (-3.26259598653062, 4.6451099902369215) ,\n",
      "and a sample size of 2 .\n",
      "100.0 % of measured values fall within two standard deviations.\n",
      "100.0 % of measured values fall within one standard deviation.\n",
      "The unbiased coefficient of variation is 27.609377292951308\n",
      "for a mean of 2.925 , \n",
      "unbiased sample standard deviation of 0.7178438096167339 , with 95\\% CI (-3.3880804475510296, 4.823768066784497) ,\n",
      "and a sample size of 2 .\n",
      "100.0 % of measured values fall within two standard deviations.\n",
      "100.0 % of measured values fall within one standard deviation.\n"
     ]
    }
   ],
   "source": [
    "\n",
    "\n",
    "# -*- coding: utf-8 -*-\n",
    "\"\"\"This code computes the coefficient of variation (CV) and some other stats for small samples (indicated by the * added to CV)\n",
    "for a given set of measurements which are assumed to be for the same or similar object, using the same measurand.\n",
    "Stats are adjusted for small sample size. Paper ref: Belz, Popovic & Mille (2022) Quantified Reproducibility Assessment of NLP Results,\n",
    "ACL'22.\n",
    "\n",
    "In this self-contained version, the set of measurements on which CV is computed is assigned to the variable set_of_set_of_measurements\n",
    "(see examples in code below).\n",
    "\n",
    "The reproducibility stats reported in the output are:\n",
    "* the unbiased coefficient of variation\n",
    "* the sample mean\n",
    "* the unbiased sample standard deviation with 95% confidence intervals, estimated on the basis of the standard error of the unbiassed sample variance\n",
    "* the sample size\n",
    "* the percentage of measured valued within two standard deviations\n",
    "* the percentage of measured valued within one standard deviation\n",
    "\n",
    "Example narrative output:\n",
    "\n",
    "The unbiased coefficient of variation is 1.5616560359100269 \\\n",
    "for a mean of 85.58285714285714 , \\\n",
    "unbiased sample standard deviation of 1.2904233075765223 with 95\\% CI (0.4514829817654973, 2.1293636333875474) ,\\\n",
    "and a sample size of 7 . \\\n",
    "100.0 % of measured values fall within two standard deviations. \\\n",
    "71.429 % of measured values fall within one standard deviation.\n",
    "\n",
    "NOTE:\n",
    "* CV assumes all measurements are positive; if they're not, shift measurement scale to start at 0\n",
    "* for fair comparison across studies, measurements on a scale that doesn't start at 0 need to be shifted to a scale that does start at 0\n",
    "\n",
    "KNOWN ISSUES:\n",
    "\n",
    "none\n",
    "\"\"\"\n",
    "\n",
    "import math\n",
    "import numpy as np\n",
    "from scipy.stats import t\n",
    "\n",
    "# measurements from Belz et al. (2022)\n",
    "# --- Table 4: BLEU scores for 7 NTS_def repros ---\n",
    "#set_of_set_of_measurements = [[84.51, 84.50, 87.46, 85.60, 84.20, 86.61, 86.20]] # 7, NTS_def, BLEU\n",
    "# --- Table 4: SARI scores for 5 NTS_def repros ---\n",
    "#set_of_set_of_measurements = [[30.65, 30.65, 29.13, 30.65, 29.96]] # 5, NTS_def, SARI\n",
    "# --- Table 4: BLEU scores for 6 NTS-w2v_def repros ---\n",
    "#set_of_set_of_measurements = [[87.50, 80.75, 89.36, 88.10, 89.64, 88.80]] # 6, NTS-w2v_def, BLEU\n",
    "# --- Table 4: SARI scores for 4 NTS_w2v_def repros ---\n",
    "#set_of_set_of_measurements = [[31.11, 30.28, 31.11, 29.12]] # 4, NTS-w2v_def, SARI\n",
    "# --- Table 5: blue highlights (i.e. subsets of BLEU scores from above where outputs were reused, not regenerated) ---\n",
    "#set_of_set_of_measurements = [[84.51, 84.50, 85.60, 84.20]] # 7, NTS_def, BLEU\n",
    "#set_of_set_of_measurements = [[87.50, 89.36, 88.10]] # 6, NTS-w2v_def, BLEU\n",
    "# --- Section 4.1, fourth paragraph: subset of scores where outputs were regenerated and Nisioi's BLEU script was used\n",
    "#set_of_set_of_measurements = [[84.51, 87.46, 86.61], # 7, NTS_def, BLEU\n",
    "#                              [30.65, 29.13, 29.96], # 5, NTS_def, SARI\n",
    "#                              [87.50, 80.75, 89.64], # 6, NTS-w2v_def, BLEU\n",
    "#                              [31.11, 30.28, 29.12]] # 4, NTS-w2v_def, SARI\n",
    "# --- Table 6: wF1 scores for 11 system variants ---\n",
    "#set_of_set_of_measurements = [[0.428, 0.493, 0.426, 0.574, 0.579, 0.590, 0.574, 0.600],\n",
    "#                              [0.721, 0.603, 0.605, 0.606, 0.720, 0.732, 0.606, 0.740],\n",
    "#                              [0.719, 0.604, 0.607, 0.607, 0.723, 0.733, 0.607, 0.736],\n",
    "#                              [0.726, 0.681, 0.680, 0.680, 0.722, 0.728, 0.680, 0.732],\n",
    "#                              [0.724, 0.680, 0.680, 0.681, 0.725, 0.729, 0.681, 0.731],\n",
    "#                              [0.703, 0.660, 0.650, 0.651, 0.699, 0.711, 0.651, 0.710],\n",
    "#                              [0.693, 0.661, 0.652, 0.653, 0.699, 0.712, 0.653, 0.716],\n",
    "#                              [0.449, 0.600, 0.433, 0.597, 0.635, 0.646, 0.597, 0.698],\n",
    "#                              [0.471, 0.647, 0.447, 0.647, 0.696, 0.711, 0.647, 0.726],\n",
    "#                              [0.693, 0.658, 0.683, 0.668, 0.692, 0.689, 0.659, 0.391],\n",
    "#                              [0.689, 0.662, 0.681, 0.659, 0.681, 0.684, 0.657, 0.401]]\n",
    "\n",
    "#set_of_set_of_measurements = [[2.4, 2.175, 2.2, 2.175, 3.0, 2.27, 2.52]] #AMI score\n",
    "\n",
    "set_of_set_of_measurements = [\n",
    "  [4.7, 2.4], # Gold\n",
    "  [2.92, 2.18], # PGN\n",
    "  [3.52, 2.2], # HMNet\n",
    "  [3.20, 2.18], # PGN(DKE)\n",
    "  [3.15, 3.0], # PGN(DRD)\n",
    "  [3.05, 2.27], # PGN(DTS)\n",
    "  [3.33, 2.52], #PGN(DALL)\n",
    "]\n",
    "\n",
    "\n",
    "for set_of_measurements in set_of_set_of_measurements:\n",
    "  if len(set_of_measurements) < 2:\n",
    "    print(set_of_measurements, \": set of measurements is smaller than 2\")\n",
    "    break\n",
    "\n",
    "  sample_mean = np.mean(set_of_measurements)\n",
    "  if sample_mean <= 0:\n",
    "    print(set_of_measurements, \": mean is 0 or negative\")\n",
    "    break\n",
    "\n",
    "  sample_size = len(set_of_measurements)\n",
    "  degrees_of_freedom = sample_size-1\n",
    "  sum_of_squared_differences = np.sum(np.square(sample_mean-set_of_measurements))\n",
    "\n",
    "  # unbiassed sample variance s^2\n",
    "  unbiassed_sample_variance = sum_of_squared_differences/degrees_of_freedom\n",
    "  # corrected sample standard deviation s\n",
    "  corrected_sample_standard_deviation = np.sqrt(unbiassed_sample_variance)\n",
    "  # Gamma(N/2)\n",
    "  gamma_N_over_2 = math.gamma(sample_size/2)\n",
    "  # Gamma((N-1)/2)\n",
    "  gamma_df_over_2 = math.gamma(degrees_of_freedom/2)\n",
    "  # c_4(N)\n",
    "  c_4_N = math.sqrt(2/degrees_of_freedom)*gamma_N_over_2/gamma_df_over_2\n",
    "  # unbiassed sample std dev s/c_4\n",
    "  unbiassed_sample_std_dev_s_c_4 = corrected_sample_standard_deviation/c_4_N\n",
    "  # standard error of the unbiassed sample variance (assumes normally distributed population)\n",
    "  standard_error_of_unbiassed_sample_variance = unbiassed_sample_variance*np.sqrt(2/degrees_of_freedom)\n",
    "  # estimated std err of std dev based on std err of unbiassed sample variance\n",
    "  est_SE_of_SD_based_on_SE_of_unbiassed_sample_variance = standard_error_of_unbiassed_sample_variance/(2*unbiassed_sample_std_dev_s_c_4)\n",
    "\n",
    "  # COEFFICIENT OF VARIATION CV\n",
    "  coefficient_of_variation = (unbiassed_sample_std_dev_s_c_4/sample_mean)*100\n",
    "  # SMALL SAMPLE CORRECTED COEFFICIENT OF VARIATION CV*\n",
    "  small_sample_coefficient_of_variation = (1+(1/(4*sample_size)))*coefficient_of_variation\n",
    "\n",
    "  # compute percentage of measured values within 1 and 2 standard deviations from the mean\n",
    "  # initialise counts\n",
    "  count_within_1_sd = 0\n",
    "  count_within_2_sd = 0\n",
    "  # for each measured value\n",
    "  for m in set_of_measurements:\n",
    "    # if it's within two std devs, increment count_within_2_sd\n",
    "    if np.abs(m-sample_mean) < 2*unbiassed_sample_std_dev_s_c_4:\n",
    "      count_within_2_sd += 1\n",
    "      #if it's also within one std devs, increment count_within_1_sd\n",
    "      if np.abs(m-sample_mean) < unbiassed_sample_std_dev_s_c_4:\n",
    "        count_within_1_sd += 1\n",
    "\n",
    "  # report results as described in code description above\n",
    "  print(\"The unbiased coefficient of variation is\",small_sample_coefficient_of_variation)\n",
    "  print(\"for a mean of\",sample_mean,\", \")\n",
    "  print(\"unbiased sample standard deviation of\",unbiassed_sample_std_dev_s_c_4,\", with 95\\% CI\",t.interval(0.95, degrees_of_freedom, loc=unbiassed_sample_std_dev_s_c_4, scale=est_SE_of_SD_based_on_SE_of_unbiassed_sample_variance),\",\")\n",
    "  print(\"and a sample size of\",sample_size,\".\")\n",
    "  print(count_within_2_sd/sample_size*100,\"% of measured values fall within two standard deviations.\")\n",
    "  print(round(count_within_1_sd/sample_size*100, 3),\"% of measured values fall within one standard deviation.\", )\n",
    "\n",
    "\n"
   ]
  },
  {
   "cell_type": "code",
   "execution_count": null,
   "metadata": {
    "id": "VLvhrYAW_Jwr"
   },
   "outputs": [],
   "source": []
  }
 ],
 "metadata": {
  "colab": {
   "provenance": []
  },
  "kernelspec": {
   "display_name": "Python 3 (ipykernel)",
   "language": "python",
   "name": "python3"
  },
  "language_info": {
   "codemirror_mode": {
    "name": "ipython",
    "version": 3
   },
   "file_extension": ".py",
   "mimetype": "text/x-python",
   "name": "python",
   "nbconvert_exporter": "python",
   "pygments_lexer": "ipython3",
   "version": "3.9.6"
  }
 },
 "nbformat": 4,
 "nbformat_minor": 4
}
